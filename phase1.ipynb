{
 "cells": [
  {
   "cell_type": "markdown",
   "id": "40dc803b",
   "metadata": {},
   "source": [
    "## Learn about numpy"
   ]
  },
  {
   "cell_type": "code",
   "execution_count": 2,
   "id": "4cb49c1d",
   "metadata": {},
   "outputs": [],
   "source": [
    "import numpy as np"
   ]
  },
  {
   "cell_type": "markdown",
   "id": "c59d8f67",
   "metadata": {},
   "source": [
    "### creating array from list"
   ]
  },
  {
   "cell_type": "code",
   "execution_count": 3,
   "id": "eb475378",
   "metadata": {},
   "outputs": [
    {
     "name": "stdout",
     "output_type": "stream",
     "text": [
      "1d array:\n",
      " [1 2 3 4]\n",
      "2d array:\n",
      " [[1 2 3]\n",
      " [4 5 6]]\n"
     ]
    }
   ],
   "source": [
    "arr_1d = np.array([1,2,3,4])\n",
    "print(\"1d array:\\n\", arr_1d    )\n",
    "arr_2d = np.array([[1,2,3],[4,5,6]])\n",
    "print(\"2d array:\\n\", arr_2d)"
   ]
  },
  {
   "cell_type": "markdown",
   "id": "4be403bd",
   "metadata": {},
   "source": [
    "### List vs numpy array"
   ]
  },
  {
   "cell_type": "code",
   "execution_count": 4,
   "id": "09fe24b0",
   "metadata": {},
   "outputs": [
    {
     "name": "stdout",
     "output_type": "stream",
     "text": [
      "multiply python list by 2: [1, 2, 3, 4, 1, 2, 3, 4]\n",
      "multiply numpy array by 2: [2 4 6 8]\n",
      "\n",
      " Time taken by python list comprehension: 7.343292236328125e-05\n",
      " Time taken by numpy array operation: 0.0037565231323242188\n"
     ]
    }
   ],
   "source": [
    "py_list = [1, 2, 3, 4]\n",
    "print(\"multiply python list by 2:\", py_list * 2 )\n",
    "\n",
    "arr1 = np.array([1, 2, 3, 4]) # element wise multiplication\n",
    "print(\"multiply numpy array by 2:\", arr1 * 2 )\n",
    "\n",
    "import time\n",
    "start = time.time()\n",
    "py_list = (i*2 for i in range(1000000))\n",
    "print(\"\\n Time taken by python list comprehension:\", time.time() - start)\n",
    "\n",
    "start = time.time()\n",
    "np_array = np.arange(1000000) * 2\n",
    "print(\" Time taken by numpy array operation:\", time.time() - start)\n"
   ]
  },
  {
   "cell_type": "markdown",
   "id": "c0c1e1cb",
   "metadata": {},
   "source": [
    "### creating array from scratch"
   ]
  },
  {
   "cell_type": "code",
   "execution_count": 6,
   "id": "59f14782",
   "metadata": {},
   "outputs": [
    {
     "name": "stdout",
     "output_type": "stream",
     "text": [
      "\n",
      "3x4 array of zeros:\n",
      " [[0. 0. 0. 0.]\n",
      " [0. 0. 0. 0.]\n",
      " [0. 0. 0. 0.]]\n",
      "\n",
      "2x5 array of ones:\n",
      " [[1. 1. 1. 1.]\n",
      " [1. 1. 1. 1.]\n",
      " [1. 1. 1. 1.]]\n",
      "\n",
      "3x3 array of sevens:\n",
      " [[4 4 4]\n",
      " [4 4 4]\n",
      " [4 4 4]]\n",
      "\n",
      "2x4 array of randoms:\n",
      " [[0.28187507 0.53431144 0.92794301]\n",
      " [0.01509982 0.64641553 0.65468639]]\n",
      "\n",
      "Array with values from 10 to 20 with step 2:\n",
      " [0 2 4 6 8]\n",
      "\n",
      " linspace array \n",
      " [ 0.   2.5  5.   7.5 10. ]\n"
     ]
    }
   ],
   "source": [
    "zeros = np.zeros((3,4))\n",
    "print(\"\\n3x4 array of zeros:\\n\", zeros)\n",
    "ones = np.ones((3,4))\n",
    "print(\"\\n2x5 array of ones:\\n\", ones)\n",
    "fulls = np.full((3,3), 4)\n",
    "print(\"\\n3x3 array of sevens:\\n\", fulls)\n",
    "randoms = np.random.random((2,3))\n",
    "print(\"\\n2x4 array of randoms:\\n\", randoms)\n",
    "\n",
    "sequence = np.arange(0, 10, 2)\n",
    "print(\"\\nArray with values from 10 to 20 with step 2:\\n\", sequence)\n",
    "\n",
    "linspace_arr = np.linspace(0,10, num=5)\n",
    "print(\"\\n linspace array \\n\",linspace_arr)\n"
   ]
  },
  {
   "cell_type": "markdown",
   "id": "deee25d3",
   "metadata": {},
   "source": [
    "### vector,matrix and tensor"
   ]
  },
  {
   "cell_type": "code",
   "execution_count": null,
   "id": "d1f06323",
   "metadata": {},
   "outputs": [
    {
     "name": "stdout",
     "output_type": "stream",
     "text": [
      "\n",
      "Vector (1D array):\n",
      " [1 2 3]\n",
      "\n",
      "Matrix (2D array):\n",
      " [[1 2 3]\n",
      " [4 5 6]]\n",
      "\n",
      " Tensor (3D array):\n",
      " [[[1 2]\n",
      "  [3 4]]\n",
      "\n",
      " [[5 6]\n",
      "  [7 8]]]\n"
     ]
    }
   ],
   "source": [
    "vector = np.array([1, 2, 3])\n",
    "print(\"\\nVector (1D array):\\n\", vector)\n",
    "\n",
    "matrix = np.array([[1, 2, 3], [4, 5, 6]])\n",
    "print(\"\\nMatrix (2D array):\\n\", matrix)\n",
    "\n",
    "tensors = np.array([[[1,2],[3,4]],\n",
    "                    [[5,6],[7,8]]])\n",
    "print(\"\\n Tensor (3D array):\\n\", tensors)"
   ]
  },
  {
   "cell_type": "markdown",
   "id": "a72bfdad",
   "metadata": {},
   "source": [
    "### array properties"
   ]
  },
  {
   "cell_type": "code",
   "execution_count": null,
   "id": "584f6f2e",
   "metadata": {},
   "outputs": [
    {
     "name": "stdout",
     "output_type": "stream",
     "text": [
      "\n",
      " shape: (2, 3)\n",
      "\n",
      " number of dimensions: 2\n",
      "\n",
      " size:  6\n",
      "\n",
      " data type: int64\n",
      "\n",
      " item size: 8 bytes\n",
      "\n",
      " total size: 48 bytes\n"
     ]
    }
   ],
   "source": [
    "arr = np.array([[1, 2, 3],\n",
    "                 [4, 5, 6]])\n",
    "print(\"\\n shape:\", arr.shape)\n",
    "print(\"\\n number of dimensions:\", arr.ndim)\n",
    "print(\"\\n size: \", arr.size)\n",
    "print(\"\\n data type:\", arr.dtype)\n",
    "print(\"\\n item size:\", arr.itemsize, \"bytes\")\n",
    "print(\"\\n total size:\", arr.nbytes, \"bytes\")"
   ]
  },
  {
   "cell_type": "markdown",
   "id": "3c3d972b",
   "metadata": {},
   "source": [
    "### array reshape"
   ]
  },
  {
   "cell_type": "code",
   "execution_count": null,
   "id": "1df3f83f",
   "metadata": {},
   "outputs": [
    {
     "name": "stdout",
     "output_type": "stream",
     "text": [
      "\n",
      "Original array:\n",
      " [ 0  1  2  3  4  5  6  7  8  9 10 11]\n",
      "\n",
      "Reshaped array (3x4):\n",
      " [[ 0  1  2  3]\n",
      " [ 4  5  6  7]\n",
      " [ 8  9 10 11]]\n",
      "\n",
      "Flattened array:\n",
      " [ 0  1  2  3  4  5  6  7  8  9 10 11]\n",
      "\n",
      "Ravelled array:\n",
      " [ 0  1  2  3  4  5  6  7  8  9 10 11]\n",
      "\n",
      "Transposed array:\n",
      " [[ 0  4  8]\n",
      " [ 1  5  9]\n",
      " [ 2  6 10]\n",
      " [ 3  7 11]]\n"
     ]
    }
   ],
   "source": [
    "arr = np.arange(12)\n",
    "print(\"\\nOriginal array:\\n\", arr)\n",
    "reshaped_arr = arr.reshape((3,4))\n",
    "print(\"\\nReshaped array (3x4):\\n\", reshaped_arr)\n",
    "\n",
    "flattened_arr = reshaped_arr.flatten()\n",
    "print(\"\\nFlattened array:\\n\", flattened_arr)\n",
    "\n",
    "# ravel returns real array instead of copy\n",
    "ravelled_arr = reshaped_arr.ravel()\n",
    "print(\"\\nRavelled array:\\n\", ravelled_arr)\n",
    "\n",
    "# Transpose\n",
    "transposed_arr = reshaped_arr.T\n",
    "print(\"\\nTransposed array:\\n\", transposed_arr)\n"
   ]
  }
 ],
 "metadata": {
  "kernelspec": {
   "display_name": "num (3.13.7)",
   "language": "python",
   "name": "python3"
  },
  "language_info": {
   "codemirror_mode": {
    "name": "ipython",
    "version": 3
   },
   "file_extension": ".py",
   "mimetype": "text/x-python",
   "name": "python",
   "nbconvert_exporter": "python",
   "pygments_lexer": "ipython3",
   "version": "3.13.7"
  }
 },
 "nbformat": 4,
 "nbformat_minor": 5
}

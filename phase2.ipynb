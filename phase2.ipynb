{
 "cells": [
  {
   "cell_type": "markdown",
   "id": "1908a0e9",
   "metadata": {},
   "source": [
    "### Numpy array operation "
   ]
  },
  {
   "cell_type": "code",
   "execution_count": 2,
   "id": "1da56987",
   "metadata": {},
   "outputs": [],
   "source": [
    "import numpy as np"
   ]
  },
  {
   "cell_type": "code",
   "execution_count": 3,
   "id": "e9ea3c3c",
   "metadata": {},
   "outputs": [
    {
     "name": "stdout",
     "output_type": "stream",
     "text": [
      "\n",
      " basic slicing \n",
      " [3 4 5 6 7]\n",
      "\n",
      " step slicig \n",
      " [2 4 6 8]\n"
     ]
    }
   ],
   "source": [
    "arr = np.array([1,2,3,4,5,6,7,8,9,10])\n",
    "print(\"\\n basic slicing \\n\", arr[2:7])\n",
    "print(\"\\n step slicig \\n\", arr[1:8:2])"
   ]
  },
  {
   "cell_type": "code",
   "execution_count": 4,
   "id": "e87d6d86",
   "metadata": {},
   "outputs": [
    {
     "name": "stdout",
     "output_type": "stream",
     "text": [
      "\n",
      " 2d array slicing \n",
      " 7\n",
      "Entire row 1: \n",
      " [5 6 7]\n",
      "entire column 2:\n",
      " [ 3  7 11]\n"
     ]
    }
   ],
   "source": [
    "arr_2d = np.array([[1,2,3],\n",
    "                   [5,6,7],\n",
    "                   [9,10,11]])\n",
    "\n",
    "print(\"\\n 2d array slicing \\n\", arr_2d[1,2])\n",
    "print(\"Entire row 1: \\n\", arr_2d[1,:])\n",
    "print(\"entire column 2:\\n\", arr_2d[:,2])"
   ]
  },
  {
   "cell_type": "markdown",
   "id": "3c0b58f9",
   "metadata": {},
   "source": [
    "# Sorting"
   ]
  },
  {
   "cell_type": "code",
   "execution_count": 5,
   "id": "a51bea68",
   "metadata": {},
   "outputs": [
    {
     "name": "stdout",
     "output_type": "stream",
     "text": [
      "\n",
      " sorted array:  [1 2 5 5 6 9]\n",
      "Sorted 2d array by column: \n",
      " [[1 1]\n",
      " [2 2]\n",
      " [3 3]]\n"
     ]
    }
   ],
   "source": [
    "unsorted_arr = np.array([5,2,9,1,5,6])\n",
    "sorted = np.sort(unsorted_arr)\n",
    "print(\"\\n sorted array: \", sorted)\n",
    "\n",
    "arr_2d_unsorted = np.array([[3,1],\n",
    "                            [1,2],\n",
    "                            [2,3]])\n",
    "print(\"Sorted 2d array by column: \\n\", np.sort(arr_2d_unsorted,axis=0))"
   ]
  },
  {
   "cell_type": "markdown",
   "id": "de687163",
   "metadata": {},
   "source": [
    "### Filtaring"
   ]
  },
  {
   "cell_type": "code",
   "execution_count": 6,
   "id": "36879aed",
   "metadata": {},
   "outputs": [
    {
     "name": "stdout",
     "output_type": "stream",
     "text": [
      "Even numbers [ 2  4  6  8 10]\n"
     ]
    }
   ],
   "source": [
    "numbers = np.array([1,2,3,4,5,6,7,8,9,10])\n",
    "even_num = numbers[numbers % 2 == 0]\n",
    "print(\"Even numbers\", even_num)"
   ]
  },
  {
   "cell_type": "markdown",
   "id": "76942da8",
   "metadata": {},
   "source": [
    "### Filter with mask"
   ]
  },
  {
   "cell_type": "code",
   "execution_count": 7,
   "id": "0b1891a4",
   "metadata": {},
   "outputs": [
    {
     "name": "stdout",
     "output_type": "stream",
     "text": [
      "\n",
      " numbers graeter then 5: \n",
      " [ 6  7  8  9 10]\n"
     ]
    }
   ],
   "source": [
    "mask = numbers > 5\n",
    "print(\"\\n numbers graeter then 5: \\n\",numbers[mask])"
   ]
  },
  {
   "cell_type": "markdown",
   "id": "ccfb4f2e",
   "metadata": {},
   "source": [
    "## Fancy indexing vs np.where()"
   ]
  },
  {
   "cell_type": "code",
   "execution_count": 8,
   "id": "89bf2c38",
   "metadata": {},
   "outputs": [
    {
     "name": "stdout",
     "output_type": "stream",
     "text": [
      "[1 3 5]\n",
      "NP where: \n",
      " [ 6  7  8  9 10]\n"
     ]
    }
   ],
   "source": [
    "indices = [0,2,4]\n",
    "print(numbers[indices])\n",
    "\n",
    "where_result = np.where(numbers > 5)\n",
    "print(\"NP where: \\n\", numbers[where_result])"
   ]
  },
  {
   "cell_type": "code",
   "execution_count": 9,
   "id": "3ebf09f8",
   "metadata": {},
   "outputs": [
    {
     "name": "stdout",
     "output_type": "stream",
     "text": [
      "[ 1  2  3  4  5 12 14 16 18 20]\n"
     ]
    }
   ],
   "source": [
    "condition_array = np.where(numbers > 5,numbers*2,numbers)\n",
    "print(condition_array)"
   ]
  },
  {
   "cell_type": "markdown",
   "id": "fc5d31fa",
   "metadata": {},
   "source": [
    "## Adding and removing data"
   ]
  },
  {
   "cell_type": "code",
   "execution_count": 10,
   "id": "0acabf54",
   "metadata": {},
   "outputs": [
    {
     "name": "stdout",
     "output_type": "stream",
     "text": [
      "[1 2 3 4 5 6]\n"
     ]
    }
   ],
   "source": [
    "arr1 = np.array([1,2,3])\n",
    "arr2 = np.array([4,5,6])\n",
    "\n",
    "combined = np.concatenate((arr1,arr2))\n",
    "print(combined)"
   ]
  },
  {
   "cell_type": "markdown",
   "id": "6e978a6a",
   "metadata": {},
   "source": [
    "## array compatibility"
   ]
  },
  {
   "cell_type": "code",
   "execution_count": 11,
   "id": "7a5b0ffb",
   "metadata": {},
   "outputs": [
    {
     "name": "stdout",
     "output_type": "stream",
     "text": [
      "compatibality shapes: \n",
      " True\n"
     ]
    }
   ],
   "source": [
    "a = np.array([1,2,3])\n",
    "b = np.array([4,5,6])\n",
    "c = np.array([7,8,9])\n",
    "\n",
    "print(\"compatibality shapes: \\n\",a.shape == b.shape)"
   ]
  },
  {
   "cell_type": "code",
   "execution_count": 12,
   "id": "ce0d829d",
   "metadata": {},
   "outputs": [
    {
     "name": "stdout",
     "output_type": "stream",
     "text": [
      "original\n",
      " [[1 2]\n",
      " [3 4]]\n",
      "with_nrow\n",
      " [[1 2]\n",
      " [3 4]\n",
      " [5 6]]\n",
      "new col\n",
      " [[1 2 7]\n",
      " [3 4 8]]\n"
     ]
    }
   ],
   "source": [
    "original = np.array([[1,2],[3,4]])\n",
    "nrow = np.array([5,6])\n",
    "\n",
    "with_nrow = np.vstack((original,nrow))\n",
    "\n",
    "print(\"original\\n\",original)\n",
    "print(\"with_nrow\\n\", with_nrow)\n",
    "\n",
    "ncol = np.array([[7],[8]])\n",
    "wncol = np.hstack((original,ncol))\n",
    "print(\"new col\\n\", wncol)"
   ]
  },
  {
   "cell_type": "markdown",
   "id": "ebdfa0dd",
   "metadata": {},
   "source": [
    "## Deletation of a element in numpy array"
   ]
  },
  {
   "cell_type": "code",
   "execution_count": 15,
   "id": "c758511f",
   "metadata": {},
   "outputs": [
    {
     "name": "stdout",
     "output_type": "stream",
     "text": [
      "[1 2 4 5]\n"
     ]
    }
   ],
   "source": [
    "exarr = np.array([1,2,3,4,5])\n",
    "\n",
    "new_arr =np.delete(exarr,2)\n",
    "print(new_arr)"
   ]
  },
  {
   "cell_type": "code",
   "execution_count": null,
   "id": "ed1934eb",
   "metadata": {},
   "outputs": [],
   "source": []
  }
 ],
 "metadata": {
  "kernelspec": {
   "display_name": "num (3.13.7)",
   "language": "python",
   "name": "python3"
  },
  "language_info": {
   "codemirror_mode": {
    "name": "ipython",
    "version": 3
   },
   "file_extension": ".py",
   "mimetype": "text/x-python",
   "name": "python",
   "nbconvert_exporter": "python",
   "pygments_lexer": "ipython3",
   "version": "3.13.7"
  }
 },
 "nbformat": 4,
 "nbformat_minor": 5
}

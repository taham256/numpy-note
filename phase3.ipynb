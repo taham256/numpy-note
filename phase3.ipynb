{
 "cells": [
  {
   "cell_type": "markdown",
   "id": "07c6441b",
   "metadata": {},
   "source": [
    "## Practice with real world data"
   ]
  },
  {
   "cell_type": "code",
   "execution_count": 1,
   "id": "1dba46f8",
   "metadata": {},
   "outputs": [],
   "source": [
    "import numpy as np\n",
    "import matplotlib.pyplot as plt"
   ]
  },
  {
   "cell_type": "code",
   "execution_count": 3,
   "id": "bcd768e1",
   "metadata": {},
   "outputs": [],
   "source": [
    "# data structure : [resturent id,2021,2022,2023,2024]\n",
    "sales_data = np.array([\n",
    "    [1, 150000, 180000, 220000, 250000], # shop 1 biryani\n",
    "    [2, 120000, 140000, 160000, 190000], # shop 2 biryani\n",
    "    [3, 200000, 230000, 260000, 300000], # shop 3 biryani \n",
    "    [4, 180000, 210000, 240000, 270000], # shop 4 biryani \n",
    "    [5, 160000, 185000, 205000, 230000]  # shop 5 biryani \n",
    "\n",
    "])"
   ]
  }
 ],
 "metadata": {
  "kernelspec": {
   "display_name": "myenv",
   "language": "python",
   "name": "python3"
  },
  "language_info": {
   "codemirror_mode": {
    "name": "ipython",
    "version": 3
   },
   "file_extension": ".py",
   "mimetype": "text/x-python",
   "name": "python",
   "nbconvert_exporter": "python",
   "pygments_lexer": "ipython3",
   "version": "3.13.9"
  }
 },
 "nbformat": 4,
 "nbformat_minor": 5
}
